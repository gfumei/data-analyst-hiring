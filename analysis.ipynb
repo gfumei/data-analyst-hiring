{
 "cells": [
  {
   "cell_type": "markdown",
   "metadata": {},
   "source": [
    "# Gigs Senior Data Analyst Challenge\n",
    "\n",
    "Welcome to the Gigs data analyst take-home challenge! This notebook will help you get started with analyzing our connectivity usage data.\n",
    "\n",
    "## About the Data\n",
    "\n",
    "You'll be working with three main datasets:\n",
    "- **Usage Data**: Detailed usage per subscription period (~100K+ records)\n",
    "- **Plan Events**: Plan configuration and pricing history\n",
    "- **Projects**: Project metadata\n",
    "\n",
    "## Setup Instructions\n",
    "\n",
    "Run the cells below to set up your environment and load the data into DuckDB."
   ]
  },
  {
   "cell_type": "code",
   "execution_count": 1,
   "metadata": {},
   "outputs": [
    {
     "name": "stdout",
     "output_type": "stream",
     "text": [
      "✅ Libraries imported successfully!\n"
     ]
    }
   ],
   "source": [
    "# Import required libraries\n",
    "import duckdb\n",
    "import pandas as pd\n",
    "from datetime import datetime, timedelta\n",
    "\n",
    "print(\"✅ Libraries imported successfully!\")"
   ]
  },
  {
   "cell_type": "code",
   "execution_count": 2,
   "metadata": {},
   "outputs": [
    {
     "name": "stdout",
     "output_type": "stream",
     "text": [
      "✅ JupySQL configured!\n"
     ]
    }
   ],
   "source": [
    "# Load JupySQL extension and configure\n",
    "%load_ext sql\n",
    "\n",
    "# Configure JupySQL for better output\n",
    "%config SqlMagic.autopandas = True\n",
    "%config SqlMagic.feedback = False\n",
    "%config SqlMagic.displaycon = False\n",
    "\n",
    "print(\"✅ JupySQL configured!\")"
   ]
  },
  {
   "cell_type": "code",
   "execution_count": 3,
   "metadata": {},
   "outputs": [
    {
     "name": "stdout",
     "output_type": "stream",
     "text": [
      "✅ Connected to DuckDB database: gigs-analytics.db\n"
     ]
    }
   ],
   "source": [
    "# Connect to DuckDB\n",
    "conn = duckdb.connect('gigs-analytics.db')\n",
    "%sql conn --alias duckdb\n",
    "\n",
    "print(\"✅ Connected to DuckDB database: gigs-analytics.db\")"
   ]
  },
  {
   "cell_type": "code",
   "execution_count": 4,
   "metadata": {},
   "outputs": [
    {
     "data": {
      "text/html": [
       "<div>\n",
       "<style scoped>\n",
       "    .dataframe tbody tr th:only-of-type {\n",
       "        vertical-align: middle;\n",
       "    }\n",
       "\n",
       "    .dataframe tbody tr th {\n",
       "        vertical-align: top;\n",
       "    }\n",
       "\n",
       "    .dataframe thead th {\n",
       "        text-align: right;\n",
       "    }\n",
       "</style>\n",
       "<table border=\"1\" class=\"dataframe\">\n",
       "  <thead>\n",
       "    <tr style=\"text-align: right;\">\n",
       "      <th></th>\n",
       "      <th>Count</th>\n",
       "    </tr>\n",
       "  </thead>\n",
       "  <tbody>\n",
       "    <tr>\n",
       "      <th>0</th>\n",
       "      <td>3</td>\n",
       "    </tr>\n",
       "  </tbody>\n",
       "</table>\n",
       "</div>"
      ],
      "text/plain": [
       "   Count\n",
       "0      3"
      ]
     },
     "execution_count": 4,
     "metadata": {},
     "output_type": "execute_result"
    }
   ],
   "source": [
    "%%sql\n",
    "-- Load data into DuckDB tables\n",
    "CREATE OR REPLACE TABLE usage_data AS \n",
    "SELECT * FROM 'data/usage_by_subscription_period.csv';\n",
    "\n",
    "CREATE OR REPLACE TABLE plan_events AS \n",
    "SELECT * FROM 'data/plan_change_events.csv';\n",
    "\n",
    "CREATE OR REPLACE TABLE projects AS \n",
    "SELECT * FROM 'data/projects.csv';"
   ]
  },
  {
   "cell_type": "code",
   "execution_count": 5,
   "metadata": {},
   "outputs": [
    {
     "data": {
      "text/html": [
       "<div>\n",
       "<style scoped>\n",
       "    .dataframe tbody tr th:only-of-type {\n",
       "        vertical-align: middle;\n",
       "    }\n",
       "\n",
       "    .dataframe tbody tr th {\n",
       "        vertical-align: top;\n",
       "    }\n",
       "\n",
       "    .dataframe thead th {\n",
       "        text-align: right;\n",
       "    }\n",
       "</style>\n",
       "<table border=\"1\" class=\"dataframe\">\n",
       "  <thead>\n",
       "    <tr style=\"text-align: right;\">\n",
       "      <th></th>\n",
       "      <th>table_name</th>\n",
       "      <th>row_count</th>\n",
       "      <th>unique_subscriptions</th>\n",
       "    </tr>\n",
       "  </thead>\n",
       "  <tbody>\n",
       "    <tr>\n",
       "      <th>0</th>\n",
       "      <td>usage_data</td>\n",
       "      <td>53565</td>\n",
       "      <td>8457</td>\n",
       "    </tr>\n",
       "    <tr>\n",
       "      <th>1</th>\n",
       "      <td>plan_events</td>\n",
       "      <td>209</td>\n",
       "      <td>36</td>\n",
       "    </tr>\n",
       "    <tr>\n",
       "      <th>2</th>\n",
       "      <td>projects</td>\n",
       "      <td>3</td>\n",
       "      <td>3</td>\n",
       "    </tr>\n",
       "  </tbody>\n",
       "</table>\n",
       "</div>"
      ],
      "text/plain": [
       "    table_name  row_count  unique_subscriptions\n",
       "0   usage_data      53565                  8457\n",
       "1  plan_events        209                    36\n",
       "2     projects          3                     3"
      ]
     },
     "execution_count": 5,
     "metadata": {},
     "output_type": "execute_result"
    }
   ],
   "source": [
    "%%sql\n",
    "-- Verify data loading\n",
    "select \n",
    "  'usage_data' as table_name, \n",
    "  count(*) as row_count,\n",
    "  count(distinct subscription_id) as unique_subscriptions\n",
    "from usage_data\n",
    "union all\n",
    "select \n",
    "  'plan_events' as table_name, \n",
    "  count(*) as row_count,\n",
    "  count(distinct plan_id) as unique_plans\n",
    "from plan_events\n",
    "union all\n",
    "select \n",
    "  'projects' as table_name, \n",
    "  count(*) as row_count,\n",
    "  count(distinct project_id__hashed) as unique_projects\n",
    "from projects;"
   ]
  },
  {
   "cell_type": "markdown",
   "metadata": {},
   "source": [
    "## Your Analysis Starts Here!\n",
    "\n",
    "Now you have everything set up. Use the cells below to start your analysis.\n",
    "\n",
    "### Tips:\n",
    "- Use `%%sql` for multi-line SQL queries\n",
    "- Use `%sql variable_name <<` to store results in a Python variable\n",
    "- Combine SQL with Python/Pandas for advanced analysis\n",
    "- Feel free to use any visualisation library you feel comfortable with"
   ]
  },
  {
   "cell_type": "code",
   "execution_count": 11,
   "metadata": {},
   "outputs": [
    {
     "data": {
      "text/html": [
       "<div>\n",
       "<style scoped>\n",
       "    .dataframe tbody tr th:only-of-type {\n",
       "        vertical-align: middle;\n",
       "    }\n",
       "\n",
       "    .dataframe tbody tr th {\n",
       "        vertical-align: top;\n",
       "    }\n",
       "\n",
       "    .dataframe thead th {\n",
       "        text-align: right;\n",
       "    }\n",
       "</style>\n",
       "<table border=\"1\" class=\"dataframe\">\n",
       "  <thead>\n",
       "    <tr style=\"text-align: right;\">\n",
       "      <th></th>\n",
       "      <th>count_star()</th>\n",
       "    </tr>\n",
       "  </thead>\n",
       "  <tbody>\n",
       "    <tr>\n",
       "      <th>0</th>\n",
       "      <td>53565</td>\n",
       "    </tr>\n",
       "  </tbody>\n",
       "</table>\n",
       "</div>"
      ],
      "text/plain": [
       "   count_star()\n",
       "0         53565"
      ]
     },
     "execution_count": 11,
     "metadata": {},
     "output_type": "execute_result"
    }
   ],
   "source": [
    "%%sql \n",
    "select \n",
    "    count(*)\n",
    "from usage_data;"
   ]
  },
  {
   "cell_type": "markdown",
   "metadata": {},
   "source": [
    "## Text Cell\n",
    "This is an example text cell"
   ]
  },
  {
   "cell_type": "code",
   "execution_count": null,
   "metadata": {},
   "outputs": [],
   "source": []
  }
 ],
 "metadata": {
  "kernelspec": {
   "display_name": "Python 3 (ipykernel)",
   "language": "python",
   "name": "python3"
  },
  "language_info": {
   "codemirror_mode": {
    "name": "ipython",
    "version": 3
   },
   "file_extension": ".py",
   "mimetype": "text/x-python",
   "name": "python",
   "nbconvert_exporter": "python",
   "pygments_lexer": "ipython3",
   "version": "3.13.6"
  }
 },
 "nbformat": 4,
 "nbformat_minor": 4
}
